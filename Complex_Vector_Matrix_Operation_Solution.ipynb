{
 "cells": [
  {
   "cell_type": "code",
   "execution_count": 9,
   "metadata": {},
   "outputs": [
    {
     "name": "stdout",
     "output_type": "stream",
     "text": [
      "Defaulting to user installation because normal site-packages is not writeable\n",
      "Requirement already satisfied: numpy in c:\\users\\lab\\appdata\\roaming\\python\\python311\\site-packages (2.2.2)\n",
      "Note: you may need to restart the kernel to use updated packages.\n"
     ]
    },
    {
     "name": "stderr",
     "output_type": "stream",
     "text": [
      "DEPRECATION: Loading egg at c:\\program files\\python311\\lib\\site-packages\\vboxapi-1.0-py3.11.egg is deprecated. pip 25.1 will enforce this behaviour change. A possible replacement is to use pip for package installation. Discussion can be found at https://github.com/pypa/pip/issues/12330\n",
      "\n",
      "[notice] A new release of pip is available: 24.3.1 -> 25.0\n",
      "[notice] To update, run: python.exe -m pip install --upgrade pip\n"
     ]
    }
   ],
   "source": [
    "pip install numpy"
   ]
  },
  {
   "cell_type": "markdown",
   "metadata": {},
   "source": [
    "## Development of exercises"
   ]
  },
  {
   "cell_type": "markdown",
   "metadata": {},
   "source": [
    "### Exercise 1: Sum of Two Complex Vectors\n",
    "Given two complex vectors \n",
    "$ v1 = \\begin{bmatrix} 1 + 2i \\\\ 3 - i \\end{bmatrix} $ \n",
    "and \n",
    "$ v2 = \\begin{bmatrix} 2 - i \\\\ 4 + 2i \\end{bmatrix} $, \n",
    "find their sum."
   ]
  },
  {
   "cell_type": "code",
   "execution_count": 10,
   "metadata": {},
   "outputs": [
    {
     "name": "stdout",
     "output_type": "stream",
     "text": [
      "vector 1:\n",
      " [[1.+2.j]\n",
      " [3.-1.j]]\n",
      "\n",
      " vector 2:\n",
      " [[2.-1.j]\n",
      " [4.+2.j]]\n",
      "\n",
      "Suma de v1 y v2:\n",
      " [[3.+1.j]\n",
      " [7.+1.j]]\n"
     ]
    }
   ],
   "source": [
    "import numpy as np\n",
    "\n",
    "# vectores complejos\n",
    "v1 = np.array([[1 + 2j], [3 - 1j]])\n",
    "v2 = np.array([[2 - 1j], [4 + 2j]])\n",
    "\n",
    "# Suma de los vectores\n",
    "sum_v = v1 + v2\n",
    "\n",
    "print(\"vector 1:\\n\", v1)\n",
    "print(\"\\n vector 2:\\n\", v2)\n",
    "print(\"\\nSuma de v1 y v2:\\n\", sum_v)"
   ]
  },
  {
   "cell_type": "markdown",
   "metadata": {},
   "source": [
    "### Exercise 2: Negation of a Complex Vector\n",
    "Given a complex vector \n",
    "$ v = \\begin{bmatrix} 2 + 3i \\\\ 1 - 2i \\end{bmatrix} $, \n",
    "find its negation."
   ]
  },
  {
   "cell_type": "code",
   "execution_count": 11,
   "metadata": {},
   "outputs": [
    {
     "name": "stdout",
     "output_type": "stream",
     "text": [
      " vector:\n",
      " [[2.+3.j]\n",
      " [1.-2.j]]\n",
      "\n",
      "Negación de v:\n",
      " [[-2.-3.j]\n",
      " [-1.+2.j]]\n"
     ]
    }
   ],
   "source": [
    "# vector complejo\n",
    "v = np.array([[2 + 3j], [1 - 2j]])\n",
    "\n",
    "# Negación del vector\n",
    "neg_v = -v\n",
    "\n",
    "print(\" vector:\\n\", v)\n",
    "print(\"\\nNegación de v:\\n\", neg_v)"
   ]
  },
  {
   "cell_type": "markdown",
   "metadata": {},
   "source": [
    "### Exercise 3: Multiplication of a Complex Vector by a Scalar\n",
    "Multiply the complex vector \n",
    "$ v = \\begin{bmatrix} 1 - i \\\\ 2 + 2i \\end{bmatrix} $ \n",
    "by the complex scalar $$ 3 + i $$."
   ]
  },
  {
   "cell_type": "code",
   "execution_count": 12,
   "metadata": {},
   "outputs": [
    {
     "name": "stdout",
     "output_type": "stream",
     "text": [
      " vector:\n",
      " [[1.-1.j]\n",
      " [2.+2.j]]\n",
      "\n",
      "Escalar: (3+1j)\n",
      "\n",
      "Multiplicación de v por el escalar:\n",
      " [[4.-2.j]\n",
      " [4.+8.j]]\n"
     ]
    }
   ],
   "source": [
    "# vector y el escalar\n",
    "v = np.array([[1 - 1j], [2 + 2j]])\n",
    "scalar = 3 + 1j\n",
    "\n",
    "# Multiplicación por escalar\n",
    "mult_v = v * scalar\n",
    "\n",
    "print(\" vector:\\n\", v)\n",
    "print(\"\\nEscalar:\", scalar)\n",
    "print(\"\\nMultiplicación de v por el escalar:\\n\", mult_v)"
   ]
  },
  {
   "cell_type": "markdown",
   "metadata": {},
   "source": [
    "### Exercise 4: Transpose of a Complex Vector\n",
    "Find the transpose of the complex vector \n",
    "$ v = \\begin{bmatrix} 2 - i \\\\ 3 + 4i \\end{bmatrix} $."
   ]
  },
  {
   "cell_type": "code",
   "execution_count": 13,
   "metadata": {},
   "outputs": [
    {
     "name": "stdout",
     "output_type": "stream",
     "text": [
      " vector:\n",
      " [[2.-1.j]\n",
      " [3.+4.j]]\n",
      "\n",
      "Transpuesta de v:\n",
      " [[2.-1.j 3.+4.j]]\n"
     ]
    }
   ],
   "source": [
    "# vector complejo\n",
    "v = np.array([[2 - 1j], [3 + 4j]])\n",
    "\n",
    "# Transpuesta \n",
    "transpose_v = v.T\n",
    "\n",
    "print(\" vector:\\n\", v)\n",
    "print(\"\\nTranspuesta de v:\\n\", transpose_v)"
   ]
  },
  {
   "cell_type": "markdown",
   "metadata": {},
   "source": [
    "### Exercise 5: Conjugate of a Complex Vector\n",
    "Compute the conjugate of the complex vector \n",
    "$ v = \\begin{bmatrix} 1 + i \\\\ 2 - 3i \\end{bmatrix} $."
   ]
  },
  {
   "cell_type": "code",
   "execution_count": 14,
   "metadata": {},
   "outputs": [
    {
     "name": "stdout",
     "output_type": "stream",
     "text": [
      " vector:\n",
      " [[1.+1.j]\n",
      " [2.-3.j]]\n",
      "\n",
      "Conjugado de v:\n",
      " [[1.-1.j]\n",
      " [2.+3.j]]\n"
     ]
    }
   ],
   "source": [
    "# vector complejo\n",
    "v = np.array([[1 + 1j], [2 - 3j]])\n",
    "\n",
    "# Conjugado del vector\n",
    "conjugate_v = np.conjugate(v)\n",
    "\n",
    "print(\" vector:\\n\", v)\n",
    "print(\"\\nConjugado de v:\\n\", conjugate_v)"
   ]
  },
  {
   "cell_type": "markdown",
   "metadata": {},
   "source": [
    "### Exercise 6: Adjunct (Conjugate Transpose) of a Complex Vector\n",
    "Find the adjunct (or conjugate transpose) of the complex vector \n",
    "$ v = \\begin{bmatrix} 1 - 2i \\\\ 3 + i \\end{bmatrix} $."
   ]
  },
  {
   "cell_type": "code",
   "execution_count": 15,
   "metadata": {},
   "outputs": [
    {
     "name": "stdout",
     "output_type": "stream",
     "text": [
      " vector:\n",
      " [[1.-2.j]\n",
      " [3.+1.j]]\n",
      "\n",
      "Adjunta de v:\n",
      " [[1.+2.j 3.-1.j]]\n"
     ]
    }
   ],
   "source": [
    "# vector complejo\n",
    "v = np.array([[1 - 2j], [3 + 1j]])\n",
    "\n",
    "# Adjunta \n",
    "adjunct_v = v.T.conj()\n",
    "\n",
    "print(\" vector:\\n\", v)\n",
    "print(\"\\nAdjunta de v:\\n\", adjunct_v)"
   ]
  },
  {
   "cell_type": "markdown",
   "metadata": {},
   "source": [
    "## Complex Square Matrix Operations"
   ]
  },
  {
   "cell_type": "markdown",
   "metadata": {},
   "source": [
    "### Exercise 7: Sum of Two Complex Matrices\n",
    "Given two complex matrices \n",
    "$ m1 = \\begin{bmatrix} 1 + i & 2 - i \\\\ 3 + 2i & 4 \\end{bmatrix} $\n",
    "and \n",
    "$ m2 = \\begin{bmatrix} 2 - 3i & 1 \\\\ i & 2 + 2i \\end{bmatrix} $, \n",
    "calculate their sum."
   ]
  },
  {
   "cell_type": "code",
   "execution_count": 16,
   "metadata": {},
   "outputs": [
    {
     "name": "stdout",
     "output_type": "stream",
     "text": [
      " matriz 1:\n",
      " [[1.+1.j 2.-1.j]\n",
      " [3.+2.j 4.+0.j]]\n",
      "\n",
      " matriz 2:\n",
      " [[2.-3.j 1.+0.j]\n",
      " [0.+1.j 2.+2.j]]\n",
      "\n",
      "Suma de m1 y m2:\n",
      " [[3.-2.j 3.-1.j]\n",
      " [3.+3.j 6.+2.j]]\n"
     ]
    }
   ],
   "source": [
    "# matrices complejas\n",
    "m1 = np.array([[1 + 1j, 2 - 1j], [3 + 2j, 4 ]])\n",
    "m2 = np.array([[2 - 3j, 1 ], [0 + 1j, 2 + 2j]])\n",
    "\n",
    "# Suma de matrices\n",
    "sum_m = m1 + m2\n",
    "\n",
    "print(\" matriz 1:\\n\", m1)\n",
    "print(\"\\n matriz 2:\\n\", m2)\n",
    "print(\"\\nSuma de m1 y m2:\\n\", sum_m)"
   ]
  },
  {
   "cell_type": "markdown",
   "metadata": {},
   "source": [
    "### Exercise 8: Negation of a Complex Matrix\n",
    "Find the negation of the complex matrix \n",
    "$ m = \\begin{bmatrix} 2 + i & 3 \\\\ 1 - i & 2 + 2i \\end{bmatrix} $."
   ]
  },
  {
   "cell_type": "code",
   "execution_count": 17,
   "metadata": {},
   "outputs": [
    {
     "name": "stdout",
     "output_type": "stream",
     "text": [
      " matriz:\n",
      " [[2.+1.j 3.+0.j]\n",
      " [1.-1.j 2.+2.j]]\n",
      "\n",
      "Negación de m:\n",
      " [[-2.-1.j -3.-0.j]\n",
      " [-1.+1.j -2.-2.j]]\n"
     ]
    }
   ],
   "source": [
    "# matriz compleja\n",
    "m = np.array([[2 + 1j, 3 ], [1 - 1j, 2 + 2j]])\n",
    "\n",
    "# Negación\n",
    "neg_m = -m\n",
    "\n",
    "print(\" matriz:\\n\", m)\n",
    "print(\"\\nNegación de m:\\n\", neg_m)"
   ]
  },
  {
   "cell_type": "markdown",
   "metadata": {},
   "source": [
    "### Exercise 9: Multiplication of a Complex Matrix by a Scalar\n",
    "Multiply the complex matrix \n",
    "$ m = \\begin{bmatrix} 1 - i & 2 \\\\ 3 + i & 4 - 2i \\end{bmatrix} $ \n",
    "by the complex scalar $$ 2 + 3i $$."
   ]
  },
  {
   "cell_type": "code",
   "execution_count": 18,
   "metadata": {},
   "outputs": [
    {
     "name": "stdout",
     "output_type": "stream",
     "text": [
      " matriz:\n",
      " [[1.-1.j 2.+0.j]\n",
      " [3.+1.j 4.-2.j]]\n",
      "\n",
      "Escalar: (2+3j)\n",
      "\n",
      "Multiplicación de m por el escalar:\n",
      " [[ 5. +1.j  4. +6.j]\n",
      " [ 3.+11.j 14. +8.j]]\n"
     ]
    }
   ],
   "source": [
    "# matriz y escalar\n",
    "m = np.array([[1 - 1j, 2 ], [3 + 1j, 4 - 2j]])\n",
    "scalar = 2 + 3j\n",
    "\n",
    "# Multiplicación por escalar\n",
    "mult_m = m * scalar\n",
    "\n",
    "print(\" matriz:\\n\", m)\n",
    "print(\"\\nEscalar:\", scalar)\n",
    "print(\"\\nMultiplicación de m por el escalar:\\n\", mult_m)"
   ]
  },
  {
   "cell_type": "markdown",
   "metadata": {},
   "source": [
    "### Exercise 10: Conjugate of a Complex Matrix\n",
    "Compute the conjugate of the complex matrix \n",
    "$ m = \\begin{bmatrix} 1 + i & 2 \\\\ 3 - i & 4 + 2i \\end{bmatrix} $."
   ]
  },
  {
   "cell_type": "code",
   "execution_count": 19,
   "metadata": {},
   "outputs": [
    {
     "name": "stdout",
     "output_type": "stream",
     "text": [
      " matriz:\n",
      " [[1.+1.j 2.+0.j]\n",
      " [3.-1.j 4.+2.j]]\n",
      "\n",
      "Conjugado de m:\n",
      " [[1.-1.j 2.-0.j]\n",
      " [3.+1.j 4.-2.j]]\n"
     ]
    }
   ],
   "source": [
    "# matriz compleja\n",
    "m = np.array([[1 + 1j, 2 ], [3 - 1j, 4 + 2j]])\n",
    "\n",
    "# Conjugado \n",
    "conjugate_m = np.conjugate(m)\n",
    "\n",
    "print(\" matriz:\\n\", m)\n",
    "print(\"\\nConjugado de m:\\n\", conjugate_m)"
   ]
  },
  {
   "cell_type": "markdown",
   "metadata": {},
   "source": [
    "### Exercise 11: Transpose of a Complex Matrix\n",
    "Find the transpose of the complex matrix \n",
    "$ m = \\begin{bmatrix} 1 - i & 2 + 2i \\\\ 3 & 4 - i \\end{bmatrix} $."
   ]
  },
  {
   "cell_type": "code",
   "execution_count": 20,
   "metadata": {},
   "outputs": [
    {
     "name": "stdout",
     "output_type": "stream",
     "text": [
      " matriz:\n",
      " [[1.-1.j 2.+2.j]\n",
      " [3.+0.j 4.-1.j]]\n",
      "\n",
      "Transpuesta de m:\n",
      " [[1.-1.j 3.+0.j]\n",
      " [2.+2.j 4.-1.j]]\n"
     ]
    }
   ],
   "source": [
    "# matriz compleja\n",
    "m = np.array([[1 - 1j, 2 + 2j], [3 , 4 - 1j]])\n",
    "\n",
    "# Transpuesta \n",
    "transpose_m = m.T\n",
    "\n",
    "print(\" matriz:\\n\", m)\n",
    "print(\"\\nTranspuesta de m:\\n\", transpose_m)"
   ]
  },
  {
   "cell_type": "markdown",
   "metadata": {},
   "source": [
    "### Exercise 12: Adjunct (Conjugate Transpose) of a Complex Matrix\n",
    "Calculate the adjunct (or conjugate transpose) of the complex matrix \n",
    "$ m = \\begin{bmatrix} 1 + 2i & 3 - i \\\\ 4 & 5 + i \\end{bmatrix} $."
   ]
  },
  {
   "cell_type": "code",
   "execution_count": 21,
   "metadata": {},
   "outputs": [
    {
     "name": "stdout",
     "output_type": "stream",
     "text": [
      " matriz:\n",
      " [[1.+2.j 3.-1.j]\n",
      " [4.+0.j 5.+1.j]]\n",
      "\n",
      "Adjunta de m:\n",
      " [[1.-2.j 4.-0.j]\n",
      " [3.+1.j 5.-1.j]]\n"
     ]
    }
   ],
   "source": [
    "#matriz compleja\n",
    "m = np.array([[1 + 2j, 3 - 1j], [4 , 5 + 1j]])\n",
    "\n",
    "# Adjunta \n",
    "adjunct_m = m.T.conj()\n",
    "\n",
    "print(\" matriz:\\n\", m)\n",
    "print(\"\\nAdjunta de m:\\n\", adjunct_m)"
   ]
  },
  {
   "cell_type": "markdown",
   "metadata": {},
   "source": [
    "### Exercise 13: Checking the Dimensions of a Matrix\n",
    "Determine the dimensions of the complex matrix \n",
    "$ m = \\begin{bmatrix} 1 - i & 2 \\\\ 3 + 2i & 4 - i \\end{bmatrix} $."
   ]
  },
  {
   "cell_type": "code",
   "execution_count": 22,
   "metadata": {},
   "outputs": [
    {
     "name": "stdout",
     "output_type": "stream",
     "text": [
      " matriz:\n",
      " [[1.-1.j 2.+0.j]\n",
      " [3.+2.j 4.-1.j]]\n",
      "\n",
      "Dimensiones de m: (2, 2)\n"
     ]
    }
   ],
   "source": [
    "# matriz compleja\n",
    "m = np.array([[1 - 1j, 2 ], [3 + 2j, 4 - 1j]])\n",
    "\n",
    "# dimensiones\n",
    "dimensions = m.shape\n",
    "\n",
    "print(\" matriz:\\n\", m)\n",
    "print(\"\\nDimensiones de m:\", dimensions)"
   ]
  },
  {
   "cell_type": "markdown",
   "metadata": {},
   "source": [
    "### Exercise 14: Multiplying a Complex Square Matrix by a Complex Column Vector\n",
    "Multiply the complex square matrix \n",
    "$ m = \\begin{bmatrix} 1 + i & 2 - i \\\\ 3 & 4 + i \\end{bmatrix} $ \n",
    "by the complex column vector \n",
    "$ v = \\begin{bmatrix} 2 - i \\\\ 1 + 3i \\end{bmatrix} $."
   ]
  },
  {
   "cell_type": "code",
   "execution_count": 23,
   "metadata": {},
   "outputs": [
    {
     "name": "stdout",
     "output_type": "stream",
     "text": [
      " matriz:\n",
      " [[1.+1.j 2.-1.j]\n",
      " [3.+0.j 4.+1.j]]\n",
      "\n",
      " vector:\n",
      " [[2.-1.j]\n",
      " [1.+3.j]]\n",
      "\n",
      "Resultado de la multiplicación:\n",
      " [[8. +6.j]\n",
      " [7.+10.j]]\n"
     ]
    }
   ],
   "source": [
    "# matriz y el vector\n",
    "m = np.array([[1 + 1j, 2 - 1j], [3 + 0j, 4 + 1j]])\n",
    "v = np.array([[2 - 1j], [1 + 3j]])\n",
    "\n",
    "# Multiplicación \n",
    "result = np.dot(m, v)\n",
    "\n",
    "print(\" matriz:\\n\", m)\n",
    "print(\"\\n vector:\\n\", v)\n",
    "print(\"\\nResultado de la multiplicación:\\n\", result)"
   ]
  },
  {
   "cell_type": "markdown",
   "metadata": {},
   "source": [
    "## Exercises on Complex Vector and Matrix Operations\n",
    "\n",
    "This set of exercises is designed to test your understanding of various concepts related to complex vector and matrix operations, which are foundational in quantum computing. Each exercise presents a concrete case for you to apply what you've learned about complex internal products, Hermitian matrices, Unitary matrices, and tensor products.\n",
    "\n",
    "NOTE: VERIFY YOUR COMPUTATIONS IN PAPER AND IN THE COMPUTER."
   ]
  },
  {
   "cell_type": "markdown",
   "metadata": {},
   "source": [
    "### Exercise 1: Complex Internal Product for Column Vectors\n",
    "\n",
    "Given two complex column vectors:\n",
    "\n",
    "$$ \\mathbf{a} = \\begin{bmatrix} 1 + 2i \\\\ 3 - 4i \\end{bmatrix}, \\quad \\mathbf{b} = \\begin{bmatrix} 2 - i \\\\ -1 + 3i \\end{bmatrix} $$\n",
    "\n",
    "Calculate the complex internal product $ \\langle \\mathbf{a}, \\mathbf{b} \\rangle $."
   ]
  },
  {
   "cell_type": "code",
   "execution_count": 34,
   "metadata": {},
   "outputs": [
    {
     "name": "stdout",
     "output_type": "stream",
     "text": [
      "vector 1:\n",
      " [[1.+2.j]\n",
      " [3.-4.j]]\n",
      "\n",
      " vector 2:\n",
      " [[ 2.-1.j]\n",
      " [-1.+3.j]]\n",
      "\n",
      "Conjugado de a:\n",
      " [[1.-2.j]\n",
      " [3.+4.j]]\n",
      "\n",
      "El producto interno entre a y b es:\n",
      " (-15+0j)\n"
     ]
    }
   ],
   "source": [
    "import numpy as np\n",
    "# vector complejo\n",
    "a = np.array([[1 + 2j], [3 - 4j]])\n",
    "b = np.array([[2 - 1j], [-1 + 3j]])\n",
    "\n",
    "# Conjugado del vector\n",
    "conjugate_a = np.conjugate(a)\n",
    "\n",
    "#Producto interno\n",
    "prodInterno = np.sum(conjugate_a * b)\n",
    "\n",
    "print(\"vector 1:\\n\", a)\n",
    "print(\"\\n vector 2:\\n\", b)\n",
    "print(\"\\nConjugado de a:\\n\", conjugate_a)\n",
    "print(\"\\nEl producto interno entre a y b es:\\n\", prodInterno)"
   ]
  },
  {
   "cell_type": "markdown",
   "metadata": {},
   "source": [
    "### Exercise 2: Complex Internal Product for Square Complex Matrices\n",
    "\n",
    "Given two square complex matrices:\n",
    "\n",
    "$$ A = \\begin{bmatrix} 1+i & 2-2i \\\\ 3+3i & 4-i \\end{bmatrix}, \\quad B = \\begin{bmatrix} 1-2i & 3+i \\\\ 4-4i & 2+2i \\end{bmatrix} $$\n",
    "\n",
    "Calculate the complex internal product $ \\langle A, B \\rangle $.\n",
    "\n",
    "$$ \\langle A, B \\rangle = \\text{Tr}(\\bar{A}^T B) $$\n",
    "\n",
    "where $ \\text{Tr} $ denotes the trace of a matrix (the sum of all diagonal elements) and $ \\bar{A}^T $ is the conjugate transpose of $ A $."
   ]
  },
  {
   "cell_type": "code",
   "execution_count": null,
   "metadata": {},
   "outputs": [
    {
     "name": "stdout",
     "output_type": "stream",
     "text": [
      "Matriz A:\n",
      " [[1.+1.j 2.-2.j]\n",
      " [3.+3.j 4.-1.j]]\n",
      "\n",
      " Matriz B:\n",
      " [[1.-2.j 3.+1.j]\n",
      " [4.-4.j 2.+2.j]]\n",
      "\n",
      "Adjunta de A:\n",
      " [[1.-1.j 3.-3.j]\n",
      " [2.+2.j 4.+1.j]]\n",
      "\n",
      "El producto interno entre A y B es:\n",
      " [[-1.-27.j 16. -2.j]\n",
      " [26.-14.j 10.+18.j]]\n",
      "(9-9j)\n"
     ]
    }
   ],
   "source": [
    "#matriz compleja\n",
    "A = np.array([[1 + 1j, 2 - 2j], [3 + 3j, 4 - 1j]])\n",
    "B = np.array([[1 - 2j, 3 + 1j], [4 - 4j, 2 + 2j]])\n",
    "\n",
    "# Conjugado de la matriz\n",
    "adjunct_A = A.T.conj()\n",
    "\n",
    "#Producto interno\n",
    "prodInterno = np.dot(adjunct_A, B)\n",
    "prodIntTrace = np.trace(prodInterno)\n",
    "\n",
    "print(\"Matriz A:\\n\", A)\n",
    "print(\"\\n Matriz B:\\n\", B)\n",
    "print(\"\\nAdjunta de A:\\n\", adjunct_A)\n",
    "print(\"\\nEl producto interno entre A y B es:\\n\", prodIntTrace)"
   ]
  },
  {
   "cell_type": "markdown",
   "metadata": {},
   "source": [
    "## Exercises on eigenvalues and eigenvectors"
   ]
  },
  {
   "cell_type": "markdown",
   "metadata": {},
   "source": [
    "### Exercise 1: Compute Eigenvalues and Eigenvectors of a Real Matrix\n",
    "\n",
    "Compute the eigenvalues and eigenvectors of the following real matrix:\n",
    "\n",
    "$$\n",
    "A = \\begin{pmatrix}\n",
    "4 & 1 \\\\\n",
    "2 & 3\n",
    "\\end{pmatrix}\n",
    "$$\n",
    "\n",
    "**Hint:** Use `numpy.linalg.eig`."
   ]
  },
  {
   "cell_type": "code",
   "execution_count": 53,
   "metadata": {},
   "outputs": [
    {
     "name": "stdout",
     "output_type": "stream",
     "text": [
      "\n",
      "Los eigenvalues de A son:\n",
      " [5. 2.]\n",
      "\n",
      "Los eigenvectors de A son:\n",
      " [[ 0.70710678 -0.4472136 ]\n",
      " [ 0.70710678  0.89442719]]\n"
     ]
    }
   ],
   "source": [
    "import numpy as np\n",
    "\n",
    "A = np.array ([[4 , 1] , [2 , 3]])\n",
    "\n",
    "eigenvalues, eigenvectors = np.linalg.eig(A)\n",
    "\n",
    "print(\"\\nLos eigenvalues de A son:\\n\" , eigenvalues)\n",
    "print(\"\\nLos eigenvectors de A son:\\n\" , eigenvectors)\n"
   ]
  },
  {
   "cell_type": "markdown",
   "metadata": {},
   "source": [
    "### Exercise 2: Eigenvalues and Eigenvectors of a Complex Matrix\n",
    "\n",
    "Compute the eigenvalues and eigenvectors of the following complex matrix:\n",
    "\n",
    "$$\n",
    "B = \\begin{pmatrix}\n",
    "1 + 2i & 2 + 3i \\\\\n",
    "4 + 5i & 6 + 7i\n",
    "\\end{pmatrix}\n",
    "$$\n",
    "\n",
    "where \\(i\\) is the imaginary unit.\n",
    "\n",
    "**Hint:** Ensure your matrix is defined with complex numbers in Python using `dtype=complex`.\n"
   ]
  },
  {
   "cell_type": "code",
   "execution_count": 54,
   "metadata": {},
   "outputs": [
    {
     "name": "stdout",
     "output_type": "stream",
     "text": [
      "Eigenvalores de B:\n",
      " [-0.25519526-0.09363597j  7.25519526+9.09363597j]\n",
      "Eigenvectores de B:\n",
      " [[ 0.8280679 +0.j          0.35299759+0.04782692j]\n",
      " [-0.559984  -0.02686037j  0.93440103+0.j        ]]\n"
     ]
    }
   ],
   "source": [
    "import numpy as np\n",
    "B = np.array([[1 + 2j, 2 + 3j] , [4 + 5j, 6 + 7j]])\n",
    "\n",
    "eigenvalues, eigenvectors = np.linalg.eig(B)\n",
    "\n",
    "print(\"Eigenvalores de B:\\n\", eigenvalues)\n",
    "print(\"Eigenvectores de B:\\n\", eigenvectors)"
   ]
  },
  {
   "cell_type": "markdown",
   "metadata": {},
   "source": [
    "### Exercise 3: Symmetric Matrix Eigendecomposition\n",
    "\n",
    "Compute the eigenvalues and eigenvectors of the following symmetric matrix:\n",
    "\n",
    "$$\n",
    "C = \\begin{pmatrix}\n",
    "5 & 4 \\\\\n",
    "4 & 5\n",
    "\\end{pmatrix}\n",
    "$$\n",
    "\n",
    "Discuss the properties of the eigenvectors and eigenvalues for symmetric matrices based on your results."
   ]
  },
  {
   "cell_type": "code",
   "execution_count": 55,
   "metadata": {},
   "outputs": [
    {
     "name": "stdout",
     "output_type": "stream",
     "text": [
      "\n",
      "Los eigenvalues de C son:\n",
      " [9. 1.]\n",
      "\n",
      "Los eigenvectors de C son:\n",
      " [[ 0.70710678 -0.70710678]\n",
      " [ 0.70710678  0.70710678]]\n"
     ]
    }
   ],
   "source": [
    "import numpy as np\n",
    "\n",
    "C = np.array ([[5 , 4] , [4 , 5]])\n",
    "\n",
    "eigenvalues, eigenvectors = np.linalg.eig(C)\n",
    "\n",
    "print(\"\\nLos eigenvalues de C son:\\n\" , eigenvalues)\n",
    "print(\"\\nLos eigenvectors de C son:\\n\" , eigenvectors)"
   ]
  },
  {
   "cell_type": "markdown",
   "metadata": {},
   "source": [
    "### Exercise 4: Plotting Matrix Transformations\n",
    "\n",
    "Consider the matrix:\n",
    "\n",
    "$$\n",
    "T = \\begin{pmatrix}\n",
    "2 & 1 \\\\\n",
    "1 & 3\n",
    "\\end{pmatrix}\n",
    "$$\n",
    "\n",
    "1. Plot the unit circle.\n",
    "2. Apply the matrix \\(T\\) to transform the unit circle.\n",
    "3. Plot the transformed figure.\n",
    "4. Show graphically that the eigenvectors are only multiplied by an escalar when transformed. (Plot the eigen vectors and the transformed ones) \n",
    "\n",
    "Explain how the matrix \\(T\\) transforms the unit circle based on the resulting plot.\n",
    "\n",
    "**Hint:** Use `numpy` for matrix operations and `matplotlib` for plotting."
   ]
  },
  {
   "cell_type": "markdown",
   "metadata": {},
   "source": [
    "### Exercise 5: Diagonal Matrix Eigendecomposition\n",
    "\n",
    "Compute the eigenvalues and eigenvectors of the following diagonal matrix:\n",
    "\n",
    "$$\n",
    "D = \\begin{pmatrix}\n",
    "7 & 0 \\\\\n",
    "0 & -3\n",
    "\\end{pmatrix}\n",
    "$$\n",
    "\n",
    "Discuss the significance of the eigenvalues and eigenvectors for diagonal matrices."
   ]
  }
 ],
 "metadata": {
  "kernelspec": {
   "display_name": "Python 3",
   "language": "python",
   "name": "python3"
  },
  "language_info": {
   "codemirror_mode": {
    "name": "ipython",
    "version": 3
   },
   "file_extension": ".py",
   "mimetype": "text/x-python",
   "name": "python",
   "nbconvert_exporter": "python",
   "pygments_lexer": "ipython3",
   "version": "3.11.6"
  }
 },
 "nbformat": 4,
 "nbformat_minor": 2
}
